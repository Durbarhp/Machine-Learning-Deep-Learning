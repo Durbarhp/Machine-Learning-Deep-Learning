{
  "nbformat": 4,
  "nbformat_minor": 0,
  "metadata": {
    "colab": {
      "provenance": []
    },
    "kernelspec": {
      "name": "python3",
      "display_name": "Python 3"
    },
    "language_info": {
      "name": "python"
    }
  },
  "cells": [
    {
      "cell_type": "code",
      "execution_count": 1,
      "metadata": {
        "colab": {
          "base_uri": "https://localhost:8080/",
          "height": 202
        },
        "id": "-epTl6mzkgkV",
        "outputId": "be5147e6-033e-491c-843f-a6fd47014c67"
      },
      "outputs": [
        {
          "output_type": "display_data",
          "data": {
            "text/plain": [
              "<IPython.core.display.HTML object>"
            ],
            "text/html": [
              "\n",
              "     <input type=\"file\" id=\"files-454521d4-e77b-4ead-a0e6-87fdb56044b1\" name=\"files[]\" multiple disabled\n",
              "        style=\"border:none\" />\n",
              "     <output id=\"result-454521d4-e77b-4ead-a0e6-87fdb56044b1\">\n",
              "      Upload widget is only available when the cell has been executed in the\n",
              "      current browser session. Please rerun this cell to enable.\n",
              "      </output>\n",
              "      <script>// Copyright 2017 Google LLC\n",
              "//\n",
              "// Licensed under the Apache License, Version 2.0 (the \"License\");\n",
              "// you may not use this file except in compliance with the License.\n",
              "// You may obtain a copy of the License at\n",
              "//\n",
              "//      http://www.apache.org/licenses/LICENSE-2.0\n",
              "//\n",
              "// Unless required by applicable law or agreed to in writing, software\n",
              "// distributed under the License is distributed on an \"AS IS\" BASIS,\n",
              "// WITHOUT WARRANTIES OR CONDITIONS OF ANY KIND, either express or implied.\n",
              "// See the License for the specific language governing permissions and\n",
              "// limitations under the License.\n",
              "\n",
              "/**\n",
              " * @fileoverview Helpers for google.colab Python module.\n",
              " */\n",
              "(function(scope) {\n",
              "function span(text, styleAttributes = {}) {\n",
              "  const element = document.createElement('span');\n",
              "  element.textContent = text;\n",
              "  for (const key of Object.keys(styleAttributes)) {\n",
              "    element.style[key] = styleAttributes[key];\n",
              "  }\n",
              "  return element;\n",
              "}\n",
              "\n",
              "// Max number of bytes which will be uploaded at a time.\n",
              "const MAX_PAYLOAD_SIZE = 100 * 1024;\n",
              "\n",
              "function _uploadFiles(inputId, outputId) {\n",
              "  const steps = uploadFilesStep(inputId, outputId);\n",
              "  const outputElement = document.getElementById(outputId);\n",
              "  // Cache steps on the outputElement to make it available for the next call\n",
              "  // to uploadFilesContinue from Python.\n",
              "  outputElement.steps = steps;\n",
              "\n",
              "  return _uploadFilesContinue(outputId);\n",
              "}\n",
              "\n",
              "// This is roughly an async generator (not supported in the browser yet),\n",
              "// where there are multiple asynchronous steps and the Python side is going\n",
              "// to poll for completion of each step.\n",
              "// This uses a Promise to block the python side on completion of each step,\n",
              "// then passes the result of the previous step as the input to the next step.\n",
              "function _uploadFilesContinue(outputId) {\n",
              "  const outputElement = document.getElementById(outputId);\n",
              "  const steps = outputElement.steps;\n",
              "\n",
              "  const next = steps.next(outputElement.lastPromiseValue);\n",
              "  return Promise.resolve(next.value.promise).then((value) => {\n",
              "    // Cache the last promise value to make it available to the next\n",
              "    // step of the generator.\n",
              "    outputElement.lastPromiseValue = value;\n",
              "    return next.value.response;\n",
              "  });\n",
              "}\n",
              "\n",
              "/**\n",
              " * Generator function which is called between each async step of the upload\n",
              " * process.\n",
              " * @param {string} inputId Element ID of the input file picker element.\n",
              " * @param {string} outputId Element ID of the output display.\n",
              " * @return {!Iterable<!Object>} Iterable of next steps.\n",
              " */\n",
              "function* uploadFilesStep(inputId, outputId) {\n",
              "  const inputElement = document.getElementById(inputId);\n",
              "  inputElement.disabled = false;\n",
              "\n",
              "  const outputElement = document.getElementById(outputId);\n",
              "  outputElement.innerHTML = '';\n",
              "\n",
              "  const pickedPromise = new Promise((resolve) => {\n",
              "    inputElement.addEventListener('change', (e) => {\n",
              "      resolve(e.target.files);\n",
              "    });\n",
              "  });\n",
              "\n",
              "  const cancel = document.createElement('button');\n",
              "  inputElement.parentElement.appendChild(cancel);\n",
              "  cancel.textContent = 'Cancel upload';\n",
              "  const cancelPromise = new Promise((resolve) => {\n",
              "    cancel.onclick = () => {\n",
              "      resolve(null);\n",
              "    };\n",
              "  });\n",
              "\n",
              "  // Wait for the user to pick the files.\n",
              "  const files = yield {\n",
              "    promise: Promise.race([pickedPromise, cancelPromise]),\n",
              "    response: {\n",
              "      action: 'starting',\n",
              "    }\n",
              "  };\n",
              "\n",
              "  cancel.remove();\n",
              "\n",
              "  // Disable the input element since further picks are not allowed.\n",
              "  inputElement.disabled = true;\n",
              "\n",
              "  if (!files) {\n",
              "    return {\n",
              "      response: {\n",
              "        action: 'complete',\n",
              "      }\n",
              "    };\n",
              "  }\n",
              "\n",
              "  for (const file of files) {\n",
              "    const li = document.createElement('li');\n",
              "    li.append(span(file.name, {fontWeight: 'bold'}));\n",
              "    li.append(span(\n",
              "        `(${file.type || 'n/a'}) - ${file.size} bytes, ` +\n",
              "        `last modified: ${\n",
              "            file.lastModifiedDate ? file.lastModifiedDate.toLocaleDateString() :\n",
              "                                    'n/a'} - `));\n",
              "    const percent = span('0% done');\n",
              "    li.appendChild(percent);\n",
              "\n",
              "    outputElement.appendChild(li);\n",
              "\n",
              "    const fileDataPromise = new Promise((resolve) => {\n",
              "      const reader = new FileReader();\n",
              "      reader.onload = (e) => {\n",
              "        resolve(e.target.result);\n",
              "      };\n",
              "      reader.readAsArrayBuffer(file);\n",
              "    });\n",
              "    // Wait for the data to be ready.\n",
              "    let fileData = yield {\n",
              "      promise: fileDataPromise,\n",
              "      response: {\n",
              "        action: 'continue',\n",
              "      }\n",
              "    };\n",
              "\n",
              "    // Use a chunked sending to avoid message size limits. See b/62115660.\n",
              "    let position = 0;\n",
              "    do {\n",
              "      const length = Math.min(fileData.byteLength - position, MAX_PAYLOAD_SIZE);\n",
              "      const chunk = new Uint8Array(fileData, position, length);\n",
              "      position += length;\n",
              "\n",
              "      const base64 = btoa(String.fromCharCode.apply(null, chunk));\n",
              "      yield {\n",
              "        response: {\n",
              "          action: 'append',\n",
              "          file: file.name,\n",
              "          data: base64,\n",
              "        },\n",
              "      };\n",
              "\n",
              "      let percentDone = fileData.byteLength === 0 ?\n",
              "          100 :\n",
              "          Math.round((position / fileData.byteLength) * 100);\n",
              "      percent.textContent = `${percentDone}% done`;\n",
              "\n",
              "    } while (position < fileData.byteLength);\n",
              "  }\n",
              "\n",
              "  // All done.\n",
              "  yield {\n",
              "    response: {\n",
              "      action: 'complete',\n",
              "    }\n",
              "  };\n",
              "}\n",
              "\n",
              "scope.google = scope.google || {};\n",
              "scope.google.colab = scope.google.colab || {};\n",
              "scope.google.colab._files = {\n",
              "  _uploadFiles,\n",
              "  _uploadFilesContinue,\n",
              "};\n",
              "})(self);\n",
              "</script> "
            ]
          },
          "metadata": {}
        },
        {
          "output_type": "stream",
          "name": "stdout",
          "text": [
            "Saving all_tickets_processed_improved_v3.csv to all_tickets_processed_improved_v3.csv\n",
            "Shape of the dataset: (47837, 2)\n",
            "                                            Document    Topic_group\n",
            "0  connection with icon icon dear please setup ic...       Hardware\n",
            "1  work experience user work experience user hi w...         Access\n",
            "2  requesting for meeting requesting meeting hi p...       Hardware\n",
            "3  reset passwords for external accounts re expir...         Access\n",
            "4  mail verification warning hi has got attached ...  Miscellaneous\n"
          ]
        }
      ],
      "source": [
        "from google.colab import files\n",
        "import pandas as pd\n",
        "\n",
        "# Upload the CSV file\n",
        "uploaded = files.upload()\n",
        "\n",
        "# Read the CSV file without header\n",
        "import io\n",
        "df = pd.read_csv(io.BytesIO(uploaded['all_tickets_processed_improved_v3.csv']), sep=',')\n",
        "columns = ['Document', 'Topic_group']\n",
        "# Display basic information about the dataset\n",
        "print(\"Shape of the dataset:\", df.shape)\n",
        "print(df.head())\n",
        "\n",
        "\n"
      ]
    },
    {
      "cell_type": "code",
      "source": [
        "import torch\n",
        "import torch.nn as nn\n",
        "import numpy as np\n",
        "import pandas as pd\n",
        "import time\n",
        "from sklearn.model_selection import train_test_split\n",
        "from sklearn.preprocessing import LabelEncoder\n",
        "from tensorflow.keras.preprocessing.text import Tokenizer\n",
        "from tensorflow.keras.preprocessing.sequence import pad_sequences\n",
        "from torch.utils.data import DataLoader, TensorDataset\n",
        "import matplotlib.pyplot as plt"
      ],
      "metadata": {
        "id": "E2cQgShjlkIE"
      },
      "execution_count": 2,
      "outputs": []
    },
    {
      "cell_type": "code",
      "source": [
        "# Define device\n",
        "device = torch.device(\"cuda\" if torch.cuda.is_available() else \"cpu\")\n",
        "print(f\"Using device: {device}\")"
      ],
      "metadata": {
        "colab": {
          "base_uri": "https://localhost:8080/"
        },
        "id": "uJyShiuMq86_",
        "outputId": "885810b6-5494-4dbc-f388-760b3ca64a0b"
      },
      "execution_count": 3,
      "outputs": [
        {
          "output_type": "stream",
          "name": "stdout",
          "text": [
            "Using device: cpu\n"
          ]
        }
      ]
    },
    {
      "cell_type": "code",
      "source": [
        "# Preprocess Data\n",
        "df['Document'] = df['Document'].str[:50]  # Truncate text to 50 characters\n",
        "max_vocab_size = 20000\n",
        "max_seq_length = 50\n",
        "\n",
        "# Tokenize Text\n",
        "tokenizer = Tokenizer(num_words=max_vocab_size, oov_token=\"<UNK>\")\n",
        "tokenizer.fit_on_texts(df['Document'].values)\n",
        "sequences = tokenizer.texts_to_sequences(df['Document'].values)\n",
        "padded_sequences = pad_sequences(sequences, maxlen=max_seq_length, padding='post', truncating='post')\n",
        "\n",
        "# Encode Labels\n",
        "label_encoder = LabelEncoder()\n",
        "encoded_labels = label_encoder.fit_transform(df['Topic_group'].values)\n",
        "num_classes = len(label_encoder.classes_)\n",
        "\n",
        "# Convert labels to one-hot encoding\n",
        "one_hot_labels = np.eye(num_classes)[encoded_labels]\n",
        "\n",
        "# Split Data\n",
        "X_train, X_temp, y_train, y_temp = train_test_split(padded_sequences, one_hot_labels, test_size=0.3, random_state=42)\n",
        "X_val, X_test, y_val, y_test = train_test_split(X_temp, y_temp, test_size=0.5, random_state=42)\n"
      ],
      "metadata": {
        "id": "DV-XqvOElqyb"
      },
      "execution_count": 4,
      "outputs": []
    },
    {
      "cell_type": "code",
      "source": [
        "# Create DataLoaders\n",
        "def create_dataloader(X, y, batch_size=32):\n",
        "    X_tensor = torch.tensor(X, dtype=torch.long)\n",
        "    y_tensor = torch.tensor(y, dtype=torch.float32)\n",
        "    dataset = TensorDataset(X_tensor, y_tensor)\n",
        "    return DataLoader(dataset, batch_size=batch_size, shuffle=True)\n",
        "\n",
        "train_loader = create_dataloader(X_train, y_train)\n",
        "val_loader = create_dataloader(X_val, y_val)\n",
        "test_loader = create_dataloader(X_test, y_test)\n",
        "\n",
        "# Create Look-ahead Mask\n",
        "def create_look_ahead_mask(size, device):\n",
        "    mask = torch.ones((size, size), device=device)\n",
        "    return torch.triu(mask, diagonal=1)\n",
        "\n"
      ],
      "metadata": {
        "id": "MkrBrjHql1hL"
      },
      "execution_count": 5,
      "outputs": []
    },
    {
      "cell_type": "code",
      "source": [
        "class TransformerClassifier(nn.Module):\n",
        "    def __init__(self, vocab_size, embedding_dim, num_heads, num_layers, hidden_dim, num_classes, dropout=0.1):\n",
        "        super(TransformerClassifier, self).__init__()\n",
        "        self.embedding = nn.Embedding(vocab_size, embedding_dim)\n",
        "        self.positional_encoding = self._generate_positional_encoding(max_seq_length, embedding_dim)\n",
        "        self.encoder_layers = nn.TransformerEncoder(\n",
        "            nn.TransformerEncoderLayer(embedding_dim, num_heads, hidden_dim, dropout),\n",
        "            num_layers\n",
        "        )\n",
        "        self.fc = nn.Linear(embedding_dim, num_classes)\n",
        "        self.dropout = nn.Dropout(dropout)\n",
        "\n",
        "    def _generate_positional_encoding(self, seq_len, dim):\n",
        "        pe = torch.zeros(seq_len, dim)\n",
        "        position = torch.arange(0, seq_len, dtype=torch.float).unsqueeze(1)\n",
        "        div_term = torch.exp(torch.arange(0, dim, 2).float() * (-np.log(10000.0) / dim))\n",
        "        pe[:, 0::2] = torch.sin(position * div_term)\n",
        "        pe[:, 1::2] = torch.cos(position * div_term)\n",
        "        return pe.unsqueeze(0)\n",
        "\n",
        "    def forward(self, x, mask=None):\n",
        "        \"\"\"\n",
        "        Forward pass for the TransformerClassifier.\n",
        "\n",
        "        Parameters:\n",
        "        - x (torch.Tensor): Input tensor of shape (batch_size, seq_length).\n",
        "        - mask (torch.Tensor): Optional look-ahead mask of shape (seq_length, seq_length).\n",
        "\n",
        "        Returns:\n",
        "        - output (torch.Tensor): Logits of shape (batch_size, num_classes).\n",
        "        \"\"\"\n",
        "        embedded = self.embedding(x)  # (batch_size, seq_length, embedding_dim)\n",
        "        embedded += self.positional_encoding[:, :x.size(1), :]  # Add positional encoding\n",
        "        transformer_out = self.encoder_layers(embedded.permute(1, 0, 2), mask)  # (seq_length, batch_size, embedding_dim)\n",
        "        transformer_out = transformer_out.permute(1, 0, 2)  # Back to (batch_size, seq_length, embedding_dim)\n",
        "        output = self.fc(self.dropout(transformer_out.mean(dim=1)))  # Mean pooling + classification head\n",
        "        return output\n"
      ],
      "metadata": {
        "id": "aVPunlUKl4RM"
      },
      "execution_count": 6,
      "outputs": []
    },
    {
      "cell_type": "code",
      "source": [
        "# Initialize Transformer\n",
        "vocab_size = min(max_vocab_size, len(tokenizer.word_index) + 1)\n",
        "embedding_dim = 128\n",
        "num_heads = 4\n",
        "num_layers = 2\n",
        "hidden_dim = 256\n",
        "dropout_rate = 0.1\n",
        "\n",
        "transformer_model = TransformerClassifier(\n",
        "    vocab_size, embedding_dim, num_heads, num_layers, hidden_dim, num_classes, dropout_rate\n",
        ").to(device)\n"
      ],
      "metadata": {
        "colab": {
          "base_uri": "https://localhost:8080/"
        },
        "id": "s_r9FOCwmIkt",
        "outputId": "1f838ddf-4e96-4194-a07e-b085b9ec5cfa"
      },
      "execution_count": 7,
      "outputs": [
        {
          "output_type": "stream",
          "name": "stderr",
          "text": [
            "/usr/local/lib/python3.10/dist-packages/torch/nn/modules/transformer.py:379: UserWarning: enable_nested_tensor is True, but self.use_nested_tensor is False because encoder_layer.self_attn.batch_first was not True(use batch_first for better inference performance)\n",
            "  warnings.warn(\n"
          ]
        }
      ]
    },
    {
      "cell_type": "code",
      "source": [
        "# LSTM Classifier\n",
        "class LSTMClassifier(nn.Module):\n",
        "    def __init__(self, vocab_size, embedding_dim, hidden_dim, num_classes, dropout=0.1):\n",
        "        super(LSTMClassifier, self).__init__()\n",
        "        self.embedding = nn.Embedding(vocab_size, embedding_dim)\n",
        "        self.lstm = nn.LSTM(embedding_dim, hidden_dim, num_layers=1, batch_first=True, dropout=dropout)\n",
        "        self.fc = nn.Linear(hidden_dim, num_classes)\n",
        "        self.dropout = nn.Dropout(dropout)\n",
        "\n",
        "    def forward(self, x):\n",
        "        embedded = self.embedding(x)\n",
        "        lstm_out, _ = self.lstm(embedded)\n",
        "        lstm_out = self.dropout(lstm_out[:, -1, :])  # Use the last hidden state\n",
        "        output = self.fc(lstm_out)\n",
        "        return output\n",
        "\n",
        "# Initialize LSTM\n",
        "hidden_dim = 64\n",
        "lstm_model = LSTMClassifier(\n",
        "    vocab_size=vocab_size,\n",
        "    embedding_dim=embedding_dim,\n",
        "    hidden_dim=hidden_dim,\n",
        "    num_classes=num_classes,\n",
        "    dropout=0.1\n",
        ").to(device)"
      ],
      "metadata": {
        "colab": {
          "base_uri": "https://localhost:8080/"
        },
        "id": "1EuYxs7sl8S0",
        "outputId": "8b1533ba-0b1b-493f-fb40-f48c90ed67af"
      },
      "execution_count": 8,
      "outputs": [
        {
          "output_type": "stream",
          "name": "stderr",
          "text": [
            "/usr/local/lib/python3.10/dist-packages/torch/nn/modules/rnn.py:123: UserWarning: dropout option adds dropout after all but last recurrent layer, so non-zero dropout expects num_layers greater than 1, but got dropout=0.1 and num_layers=1\n",
            "  warnings.warn(\n"
          ]
        }
      ]
    },
    {
      "cell_type": "code",
      "source": [
        "# Training Function\n",
        "def train_model(model, train_loader, val_loader, epochs, optimizer, criterion, device, use_mask=False):\n",
        "    model.to(device)  # Ensure model is on the correct device\n",
        "    train_losses, val_losses = [], []\n",
        "    start_time = time.time()\n",
        "\n",
        "    for epoch in range(epochs):\n",
        "        model.train()\n",
        "        total_loss = 0\n",
        "        for X_batch, y_batch in train_loader:\n",
        "            # Move data to the correct device\n",
        "            X_batch, y_batch = X_batch.to(device), y_batch.to(device)\n",
        "            optimizer.zero_grad()\n",
        "\n",
        "            if use_mask:\n",
        "                S = X_batch.size(1)\n",
        "                mask = create_look_ahead_mask(S, device=device)  # Mask on the correct device\n",
        "                predictions = model(X_batch, mask)\n",
        "            else:\n",
        "                predictions = model(X_batch)\n",
        "\n",
        "            loss = criterion(predictions, torch.argmax(y_batch, dim=1))\n",
        "            loss.backward()\n",
        "            optimizer.step()\n",
        "            total_loss += loss.item()\n",
        "        train_losses.append(total_loss / len(train_loader))\n",
        "\n",
        "        model.eval()\n",
        "        total_val_loss = 0\n",
        "        with torch.no_grad():\n",
        "            for X_batch, y_batch in val_loader:\n",
        "                # Move data to the correct device\n",
        "                X_batch, y_batch = X_batch.to(device), y_batch.to(device)\n",
        "\n",
        "                if use_mask:\n",
        "                    S = X_batch.size(1)\n",
        "                    mask = create_look_ahead_mask(S, device=device)  # Mask on the correct device\n",
        "                    predictions = model(X_batch, mask)\n",
        "                else:\n",
        "                    predictions = model(X_batch)\n",
        "\n",
        "                loss = criterion(predictions, torch.argmax(y_batch, dim=1))\n",
        "                total_val_loss += loss.item()\n",
        "        val_losses.append(total_val_loss / len(val_loader))\n",
        "\n",
        "    elapsed_time = time.time() - start_time\n",
        "    return train_losses, val_losses, elapsed_time\n",
        "\n",
        "# Optimizers and Criterion\n",
        "optimizer_transformer = torch.optim.Adam(transformer_model.parameters(), lr=0.001)\n",
        "optimizer_lstm = torch.optim.Adam(lstm_model.parameters(), lr=0.001)\n",
        "criterion = nn.CrossEntropyLoss()"
      ],
      "metadata": {
        "id": "EFjQSegEpH2O"
      },
      "execution_count": 9,
      "outputs": []
    },
    {
      "cell_type": "code",
      "source": [
        "# Train Models\n",
        "epochs = 5\n",
        "transformer_train_losses, transformer_val_losses, transformer_time = train_model(\n",
        "    transformer_model, train_loader, val_loader, epochs, optimizer_transformer, criterion, device, use_mask=True\n",
        ")\n",
        "\n",
        "lstm_train_losses, lstm_val_losses, lstm_time = train_model(\n",
        "    lstm_model, train_loader, val_loader, epochs, optimizer_lstm, criterion, device, use_mask=False\n",
        ")\n"
      ],
      "metadata": {
        "id": "vyBI-g5Ppo4i"
      },
      "execution_count": 10,
      "outputs": []
    },
    {
      "cell_type": "code",
      "source": [
        "def evaluate_model(model, test_loader, device, use_mask=False):\n",
        "    model.eval()\n",
        "    all_preds, all_targets = [], []\n",
        "\n",
        "    with torch.no_grad():\n",
        "        for X_batch, y_batch in test_loader:\n",
        "            X_batch, y_batch = X_batch.to(device), y_batch.to(device)\n",
        "\n",
        "            if use_mask:\n",
        "                S = X_batch.size(1)\n",
        "                mask = create_look_ahead_mask(S, device)\n",
        "                predictions = model(X_batch, mask)\n",
        "            else:\n",
        "                predictions = model(X_batch)\n",
        "\n",
        "            all_preds.append(predictions.cpu().numpy())\n",
        "            all_targets.append(y_batch.cpu().numpy())\n",
        "\n",
        "    all_preds = np.concatenate(all_preds, axis=0)\n",
        "    all_targets = np.concatenate(all_targets, axis=0)\n",
        "\n",
        "    predicted_classes = np.argmax(all_preds, axis=1)\n",
        "    true_classes = np.argmax(all_targets, axis=1)\n",
        "\n",
        "    mae = np.mean(np.abs(predicted_classes - true_classes))\n",
        "    r2 = np.corrcoef(predicted_classes, true_classes)[0, 1] ** 2\n",
        "    accuracy = (predicted_classes == true_classes).mean()\n",
        "\n",
        "    return mae, r2, accuracy\n"
      ],
      "metadata": {
        "id": "xPtx-DQRsDbO"
      },
      "execution_count": 13,
      "outputs": []
    },
    {
      "cell_type": "code",
      "source": [
        "# Evaluate Transformer Model\n",
        "transformer_mae, transformer_r2, transformer_accuracy = evaluate_model(\n",
        "    transformer_model, test_loader, device, use_mask=True\n",
        ")\n",
        "\n",
        "# Evaluate LSTM Model\n",
        "lstm_mae, lstm_r2, lstm_accuracy = evaluate_model(\n",
        "    lstm_model, test_loader, device, use_mask=False\n",
        ")\n",
        "\n",
        "# Print Evaluation Results\n",
        "print(\"\\nTransformer Evaluation Results:\")\n",
        "print(f\"MAE: {transformer_mae:.4f}\")\n",
        "print(f\"R²: {transformer_r2:.4f}\")\n",
        "print(f\"Accuracy: {transformer_accuracy:.4f}\")\n",
        "\n",
        "print(\"\\nLSTM Evaluation Results:\")\n",
        "print(f\"MAE: {lstm_mae:.4f}\")\n",
        "print(f\"Accuracy: {lstm_accuracy:.4f}\")\n"
      ],
      "metadata": {
        "colab": {
          "base_uri": "https://localhost:8080/"
        },
        "id": "Q99X2VEUxumI",
        "outputId": "311d89d5-bdbd-488e-a363-0ed56280d57f"
      },
      "execution_count": 16,
      "outputs": [
        {
          "output_type": "stream",
          "name": "stdout",
          "text": [
            "\n",
            "Transformer Evaluation Results:\n",
            "MAE: 0.5516\n",
            "R²: 0.5923\n",
            "Accuracy: 0.7690\n",
            "\n",
            "LSTM Evaluation Results:\n",
            "MAE: 1.4745\n",
            "Accuracy: 0.2866\n"
          ]
        }
      ]
    },
    {
      "cell_type": "code",
      "source": [
        "# Plot Training and Validation Losses\n",
        "def plot_training_validation_losses(lstm_train, lstm_val, transformer_train, transformer_val, epochs):\n",
        "    plt.figure(figsize=(10, 6))\n",
        "\n",
        "    # Plot LSTM Losses\n",
        "    plt.plot(range(epochs), lstm_train, label=\"LSTM Train Loss\", linestyle=\"--\", marker=\"o\")\n",
        "    plt.plot(range(epochs), lstm_val, label=\"LSTM Validation Loss\", linestyle=\"-\", marker=\"o\")\n",
        "\n",
        "    # Plot Transformer Losses\n",
        "    plt.plot(range(epochs), transformer_train, label=\"Transformer Train Loss\", linestyle=\"--\", marker=\"s\")\n",
        "    plt.plot(range(epochs), transformer_val, label=\"Transformer Validation Loss\", linestyle=\"-\", marker=\"s\")\n",
        "\n",
        "    # Formatting\n",
        "    plt.title(\"Training and Validation Losses: LSTM vs Transformer\")\n",
        "    plt.xlabel(\"Epochs\")\n",
        "    plt.ylabel(\"Loss\")\n",
        "    plt.legend()\n",
        "    plt.grid(True)\n",
        "    plt.show()\n",
        "\n",
        "# Call the plotting function\n",
        "plot_training_validation_losses(\n",
        "    lstm_train_losses, lstm_val_losses,\n",
        "    transformer_train_losses, transformer_val_losses,\n",
        "    epochs\n",
        ")\n"
      ],
      "metadata": {
        "colab": {
          "base_uri": "https://localhost:8080/",
          "height": 564
        },
        "id": "aZ05nqSyyWnT",
        "outputId": "878f4f44-5256-4c94-9377-b5584193985d"
      },
      "execution_count": 15,
      "outputs": [
        {
          "output_type": "display_data",
          "data": {
            "text/plain": [
              "<Figure size 1000x600 with 1 Axes>"
            ],
            "image/png": "[encoded data removed]"
          },
          "metadata": {}
        }
      ]
    },
    {
      "cell_type": "code",
      "source": [
        "from itertools import product\n",
        "\n",
        "# Define the hyperparameter values for each setting\n",
        "param_values = {\n",
        "    'num_heads': [2, 4],\n",
        "    'num_layers': [1, 2],\n",
        "    'dropout_rate': [0.1, 0.2],\n",
        "    'embedding_dim': [64, 128]\n",
        "}\n",
        "\n",
        "# Generate all combinations of the hyperparameters\n",
        "param_combinations = list(product(*param_values.values()))\n",
        "\n",
        "# Results storage\n",
        "results = []\n",
        "\n",
        "# Perform hyperparameter analysis\n",
        "for params in param_combinations:\n",
        "    num_heads, num_layers, dropout_rate, embedding_dim = params\n",
        "\n",
        "    print(f\"Testing Transformer with params: {params}\")\n",
        "\n",
        "    # Initialize Transformer model with current hyperparameters\n",
        "    transformer_model = TransformerClassifier(\n",
        "        vocab_size=vocab_size,\n",
        "        embedding_dim=embedding_dim,\n",
        "        num_heads=num_heads,\n",
        "        num_layers=num_layers,\n",
        "        hidden_dim=256,  # Fixed value\n",
        "        num_classes=num_classes,\n",
        "        dropout=dropout_rate\n",
        "    ).to(device)\n",
        "\n",
        "    # Define optimizer\n",
        "    optimizer_transformer = torch.optim.Adam(transformer_model.parameters(), lr=0.001)\n",
        "\n",
        "    # Train the Transformer\n",
        "    epochs = 5\n",
        "    transformer_train_losses, transformer_val_losses, transformer_time = train_model(\n",
        "        transformer_model, train_loader, val_loader, epochs, optimizer_transformer, criterion, device, use_mask=True\n",
        "    )\n",
        "\n",
        "    # Evaluate the Transformer\n",
        "    transformer_mae, transformer_r2, transformer_accuracy = evaluate_model(\n",
        "        transformer_model, test_loader, device, use_mask=True\n",
        "    )\n",
        "\n",
        "    # Store results\n",
        "    results.append({\n",
        "        'params': {\n",
        "            'num_heads': num_heads,\n",
        "            'num_layers': num_layers,\n",
        "            'dropout_rate': dropout_rate,\n",
        "            'embedding_dim': embedding_dim\n",
        "        },\n",
        "        'mae': transformer_mae,\n",
        "        'r2': transformer_r2,\n",
        "        'accuracy': transformer_accuracy,\n",
        "        'training_time': transformer_time\n",
        "    })\n",
        "\n",
        "# Display results\n",
        "import pandas as pd\n",
        "results_df = pd.DataFrame(results)\n",
        "print(results_df)\n",
        "\n",
        "# Save to CSV for further analysis\n",
        "results_df.to_csv(\"transformer_hyperparameter_analysis.csv\", index=False)\n"
      ],
      "metadata": {
        "colab": {
          "base_uri": "https://localhost:8080/"
        },
        "id": "86JXCOqmzb2K",
        "outputId": "3524ac46-e73a-4860-a502-823a11041b94"
      },
      "execution_count": null,
      "outputs": [
        {
          "output_type": "stream",
          "name": "stdout",
          "text": [
            "Testing Transformer with params: (2, 1, 0.1, 64)\n"
          ]
        },
        {
          "output_type": "stream",
          "name": "stderr",
          "text": [
            "/usr/local/lib/python3.10/dist-packages/torch/nn/modules/transformer.py:379: UserWarning: enable_nested_tensor is True, but self.use_nested_tensor is False because encoder_layer.self_attn.batch_first was not True(use batch_first for better inference performance)\n",
            "  warnings.warn(\n"
          ]
        },
        {
          "output_type": "stream",
          "name": "stdout",
          "text": [
            "Testing Transformer with params: (2, 1, 0.1, 128)\n",
            "Testing Transformer with params: (2, 1, 0.2, 64)\n",
            "Testing Transformer with params: (2, 1, 0.2, 128)\n",
            "Testing Transformer with params: (2, 2, 0.1, 64)\n",
            "Testing Transformer with params: (2, 2, 0.1, 128)\n",
            "Testing Transformer with params: (2, 2, 0.2, 64)\n",
            "Testing Transformer with params: (2, 2, 0.2, 128)\n",
            "Testing Transformer with params: (4, 1, 0.1, 64)\n",
            "Testing Transformer with params: (4, 1, 0.1, 128)\n",
            "Testing Transformer with params: (4, 1, 0.2, 64)\n",
            "Testing Transformer with params: (4, 1, 0.2, 128)\n"
          ]
        }
      ]
    }
  ]
}
